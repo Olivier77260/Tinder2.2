{
 "cells": [
  {
   "cell_type": "markdown",
   "metadata": {},
   "source": [
    "<center><img src=\"tinder-app.avif\" width=\"1194\" height=\"619\"></center>"
   ]
  },
  {
   "cell_type": "markdown",
   "metadata": {},
   "source": [
    "Tinder est une application de rencontres en ligne et de réseautage géosocial. Dans Tinder, les utilisateurs « glissent vers la droite » pour aimer ou « glissent vers la gauche » pour ne pas aimer les profils des autres utilisateurs, qui incluent leurs photos, une courte biographie et une liste de leurs intérêts.  \n",
    "\n",
    "En 2021, Tinder a enregistré plus de 65 milliards de matchs dans le monde.\n",
    "***"
   ]
  },
  {
   "cell_type": "markdown",
   "metadata": {},
   "source": [
    "# <center><font color=\"tomato\"><ins>**PROJET**</ins></font></center>  \n",
    "\n",
    "L’équipe marketing a besoin d’aide sur un nouveau projet.  \n",
    "> ***Ils constatent une diminution du nombre de correspondances et ils essaient de trouver un moyen de comprendre ce qui fait que les gens s’intéressent les uns aux autres***.  \n",
    "\n",
    "Ils ont décidé de mener une expérience de speed dating avec des personnes qui devaient donner à Tinder beaucoup d’informations sur elles-mêmes qui pourraient finalement se refléter sur leur profil de rencontre sur l’application.  \n",
    "\n",
    "Tinder a ensuite recueilli les données de cette expérience. Chaque ligne de l’ensemble de données représente un rendez-vous rapide entre deux personnes et indique si chacune d’entre elles a secrètement accepté d’aller à un deuxième rendez-vous avec l’autre personne.  \n",
    "***"
   ]
  },
  {
   "cell_type": "markdown",
   "metadata": {},
   "source": [
    "<center><img src=\"Illustration.png\" width=\"1194\" height=\"619\"></center>"
   ]
  },
  {
   "cell_type": "markdown",
   "metadata": {},
   "source": [
    "#### <font color=\"VIOLET\"><ins>Import</font>"
   ]
  },
  {
   "cell_type": "code",
   "execution_count": 1,
   "metadata": {},
   "outputs": [],
   "source": [
    "import pandas as pd\n",
    "pd.set_option('display.max_columns', None)\n",
    "import seaborn as sns\n",
    "import matplotlib.pyplot as plt\n",
    "import numpy as np"
   ]
  }
 ],
 "metadata": {
  "kernelspec": {
   "display_name": "Python 3",
   "language": "python",
   "name": "python3"
  },
  "language_info": {
   "codemirror_mode": {
    "name": "ipython",
    "version": 3
   },
   "file_extension": ".py",
   "mimetype": "text/x-python",
   "name": "python",
   "nbconvert_exporter": "python",
   "pygments_lexer": "ipython3",
   "version": "3.12.4"
  }
 },
 "nbformat": 4,
 "nbformat_minor": 2
}
